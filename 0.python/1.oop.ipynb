{
 "cells": [
  {
   "cell_type": "markdown",
   "metadata": {},
   "source": [
    "삼각형 클래스 만들기"
   ]
  },
  {
   "cell_type": "code",
   "execution_count": 8,
   "metadata": {},
   "outputs": [
    {
     "name": "stdout",
     "output_type": "stream",
     "text": [
      "가로 : 10 세로 : 20\n",
      "넓이 : 100.0\n",
      "가로 : 30 세로 : 4\n",
      "넓이 : 60.0\n"
     ]
    }
   ],
   "source": [
    "class Triangle(object):\n",
    "    def __init__(self, b, h):\n",
    "        self.b = b\n",
    "        self.h = h\n",
    "        print('가로 : %d 세로 : %d' % (self.b, self.h))\n",
    "\n",
    "    def area(self):\n",
    "        print('넓이 : ', end='')\n",
    "        return self.b * self.h / 2\n",
    "\n",
    "\n",
    "t1 = Triangle(10, 20)\n",
    "print(t1.area())\n",
    "t2 = Triangle(30, 4)\n",
    "print(t2.area())\n"
   ]
  },
  {
   "cell_type": "markdown",
   "metadata": {},
   "source": [
    "사각기둥 클래스 만들기"
   ]
  },
  {
   "cell_type": "code",
   "execution_count": 9,
   "metadata": {},
   "outputs": [
    {
     "name": "stdout",
     "output_type": "stream",
     "text": [
      "가로 : 10 세로 : 20 높이 : 30\n",
      "부피 : 6000\n",
      "겉넓이 : 2200\n",
      "가로 : 10 세로 : 5 높이 : 3\n",
      "부피 : 150\n",
      "겉넓이 : 190\n"
     ]
    }
   ],
   "source": [
    "class squareColumn(object):\n",
    "    def __init__(self, a, b, h):\n",
    "        self.a = a\n",
    "        self.b = b\n",
    "        self.h = h\n",
    "        print('가로 : %d 세로 : %d 높이 : %d' % (self.a, self.b, self.h))\n",
    "\n",
    "    def volume(self):\n",
    "        print('부피 : ', end='')\n",
    "        return self.a * self.b * self.h\n",
    "\n",
    "    def surface(self):\n",
    "        print('겉넓이 : ', end='')\n",
    "        return 2*(self.a*self.b+self.b*self.h+self.a*self.h)\n",
    "\n",
    "\n",
    "s1 = squareColumn(10, 20, 30)\n",
    "print(s1.volume())\n",
    "print(s1.surface())\n",
    "\n",
    "s2 = squareColumn(10, 5, 3)\n",
    "print(s2.volume())\n",
    "print(s2.surface())\n"
   ]
  },
  {
   "cell_type": "markdown",
   "metadata": {},
   "source": [
    "오버라이딩"
   ]
  },
  {
   "cell_type": "code",
   "execution_count": 10,
   "metadata": {},
   "outputs": [
    {
     "name": "stdout",
     "output_type": "stream",
     "text": [
      "100\n",
      "90\n",
      "100\n",
      "80\n"
     ]
    }
   ],
   "source": [
    "class character(object):\n",
    "    def __init__(self):\n",
    "        self.life = 100\n",
    "\n",
    "    def attacked(self):\n",
    "        pass\n",
    "\n",
    "\n",
    "class AD(character):\n",
    "    def __init__(self):\n",
    "        super().__init__()\n",
    "\n",
    "    def attacked(self):\n",
    "        self.life -= 10\n",
    "\n",
    "\n",
    "class AP(character):\n",
    "    def __init__(self):\n",
    "        super().__init__()\n",
    "\n",
    "    def attacked(self):\n",
    "        self.life -= 20\n",
    "\n",
    "\n",
    "c1 = AD()\n",
    "c2 = AP()\n",
    "print(c1.life)\n",
    "c1.attacked()\n",
    "print(c1.life)\n",
    "print(c2.life)\n",
    "c2.attacked()\n",
    "print(c2.life)\n"
   ]
  },
  {
   "cell_type": "markdown",
   "metadata": {},
   "source": [
    "car class"
   ]
  },
  {
   "cell_type": "code",
   "execution_count": 11,
   "metadata": {},
   "outputs": [
    {
     "name": "stdout",
     "output_type": "stream",
     "text": [
      "0\n",
      "20\n",
      "40\n",
      "60\n",
      "80\n",
      "100\n",
      "120\n",
      "140\n",
      "160\n",
      "160\n",
      "160\n",
      "140\n",
      "120\n",
      "100\n",
      "80\n",
      "60\n",
      "40\n",
      "20\n",
      "0\n",
      "0\n",
      "0\n"
     ]
    }
   ],
   "source": [
    "class car(object):\n",
    "    def __init__(self):\n",
    "        self.max_speed = 160\n",
    "        self.speed = 0\n",
    "\n",
    "    def speed_up(self):\n",
    "        if(self.speed + 20 <= self.max_speed):\n",
    "            self.speed += 20\n",
    "\n",
    "    def speed_down(self):\n",
    "        if (self.speed - 20 >= 0):\n",
    "            self.speed -= 20\n",
    "\n",
    "\n",
    "c = car()\n",
    "print(c.speed)\n",
    "for i in range(10):\n",
    "    c.speed_up()\n",
    "    print(c.speed)\n",
    "\n",
    "for i in range(10):\n",
    "    c.speed_down()\n",
    "    print(c.speed)\n"
   ]
  }
 ],
 "metadata": {
  "interpreter": {
   "hash": "004de6046f1b3d314f33fdb43a2dc798b2646e5600efd8df5066c8b63a00ff6d"
  },
  "kernelspec": {
   "display_name": "Python 3.8.5 64-bit",
   "language": "python",
   "name": "python3"
  },
  "language_info": {
   "codemirror_mode": {
    "name": "ipython",
    "version": 3
   },
   "file_extension": ".py",
   "mimetype": "text/x-python",
   "name": "python",
   "nbconvert_exporter": "python",
   "pygments_lexer": "ipython3",
   "version": "3.8.5"
  },
  "orig_nbformat": 4
 },
 "nbformat": 4,
 "nbformat_minor": 2
}
