{
 "cells": [
  {
   "cell_type": "markdown",
   "metadata": {},
   "source": [
    "# **Numpy**"
   ]
  },
  {
   "cell_type": "code",
   "execution_count": 9,
   "metadata": {},
   "outputs": [
    {
     "data": {
      "text/plain": [
       "module"
      ]
     },
     "execution_count": 9,
     "metadata": {},
     "output_type": "execute_result"
    }
   ],
   "source": [
    "import numpy as np\n",
    "type(np.random)"
   ]
  },
  {
   "cell_type": "code",
   "execution_count": 10,
   "metadata": {},
   "outputs": [
    {
     "name": "stdout",
     "output_type": "stream",
     "text": [
      "[4 4 4 3 3 1 2 3 5 2]\n",
      "<class 'numpy.ndarray'>\n"
     ]
    }
   ],
   "source": [
    "rolls = np.random.randint(low=1, high=6, size=10)\n",
    "print(rolls)\n",
    "print(type(rolls))  \n"
   ]
  },
  {
   "cell_type": "markdown",
   "metadata": {},
   "source": [
    "np.random.randint: 균등 분포 정수 난수 1개 생성  \n",
    "\n",
    "## **ndarray**\n",
    "Numpy의 핵심인 다차원 행렬 자료구조 클래스\n",
    "선언은 a = np.array([])의 형태    \n",
    "출력형태는 List와 같음  \n",
    "\n",
    "### **Python list**\n",
    "* 여러가지 타입의 원소 \n",
    "* Linked list 구현  \n",
    "* 메모리 용량이 크고 속도가 느림  \n",
    "* 벡터화 연산 불가  \n",
    "\n",
    "### **Numpy ndarray**  \n",
    "* 동일 타입의 원소  \n",
    "* contiguous memory layout (연속 메모리 할당) : C계열 메모리\n",
    "* 메모리 최적화, 계산 속도 향상  \n",
    "* 벡터화 연산 가능  "
   ]
  },
  {
   "cell_type": "code",
   "execution_count": 11,
   "metadata": {},
   "outputs": [
    {
     "name": "stdout",
     "output_type": "stream",
     "text": [
      "[4 4 4 3 3 1 2 3 5 2]\n",
      "[14 14 14 13 13 11 12 13 15 12]\n"
     ]
    }
   ],
   "source": [
    "# [1,2,3] + 10 이라는 연산은 말도 안된다 but 벡터화 연산에서는 ?\n",
    "print(rolls)\n",
    "print(rolls+10)"
   ]
  },
  {
   "cell_type": "code",
   "execution_count": 12,
   "metadata": {},
   "outputs": [
    {
     "name": "stdout",
     "output_type": "stream",
     "text": [
      "[[1, 2, 3], [4, 5, 6]]\n"
     ]
    },
    {
     "data": {
      "text/plain": [
       "array([[1, 2, 3],\n",
       "       [4, 5, 6]])"
      ]
     },
     "execution_count": 12,
     "metadata": {},
     "output_type": "execute_result"
    }
   ],
   "source": [
    "xlist = [[1,2,3],[4,5,6]]\n",
    "print(xlist)\n",
    "copyxList = np.asarray(xlist)\n",
    "copyxList"
   ]
  },
  {
   "cell_type": "markdown",
   "metadata": {},
   "source": [
    "np.asarray()와 np.array()는 기능에 있어서 차이는 없지만 복사 관련하여 차이가 있음  \n",
    "(정확히는 모르겠음..)"
   ]
  },
  {
   "cell_type": "code",
   "execution_count": 13,
   "metadata": {},
   "outputs": [
    {
     "name": "stdout",
     "output_type": "stream",
     "text": [
      "3\n",
      "[1 2 3]\n"
     ]
    }
   ],
   "source": [
    "#ndarray 출력하기\n",
    "print(copyxList[0,2]) \n",
    "print(copyxList[0])"
   ]
  },
  {
   "cell_type": "markdown",
   "metadata": {},
   "source": [
    "## Tensorflow "
   ]
  },
  {
   "cell_type": "code",
   "execution_count": 14,
   "metadata": {},
   "outputs": [
    {
     "data": {
      "text/plain": [
       "<tf.Tensor: shape=(), dtype=int32, numpy=2>"
      ]
     },
     "execution_count": 14,
     "metadata": {},
     "output_type": "execute_result"
    }
   ],
   "source": [
    "import tensorflow as tf\n",
    "a = tf.constant(1)\n",
    "b = tf.constant(1)\n",
    "a + b\n",
    "\n"
   ]
  },
  {
   "cell_type": "markdown",
   "metadata": {},
   "source": [
    "# **문제 풀기**    "
   ]
  },
  {
   "cell_type": "markdown",
   "metadata": {},
   "source": [
    "### **문제**  \n",
    "연산자 오퍼레이팅 문제 : 아래함수 채우기"
   ]
  },
  {
   "cell_type": "code",
   "execution_count": null,
   "metadata": {},
   "outputs": [],
   "source": [
    "def blackjack_hand_greater_than(hand_1, hand_2):\n",
    "    \"\"\"\n",
    "    Return True if hand_1 beats hand_2, and False otherwise.\n",
    "    \n",
    "    In order for hand_1 to beat hand_2 the following must be true:\n",
    "    - The total of hand_1 must not exceed 21\n",
    "    - The total of hand_1 must exceed the total of hand_2 OR hand_2's total must exceed 21\n",
    "    \n",
    "    Hands are represented as a list of cards. Each card is represented by a string.\n",
    "    \n",
    "    When adding up a hand's total, cards with numbers count for that many points. Face\n",
    "    cards ('J', 'Q', and 'K') are worth 10 points. 'A' can count for 1 or 11.\n",
    "    \n",
    "    When determining a hand's total, you should try to count aces in the way that \n",
    "    maximizes the hand's total without going over 21. e.g. the total of ['A', 'A', '9'] is 21,\n",
    "    the total of ['A', 'A', '9', '3'] is 14.\n",
    "    \n",
    "    Examples:\n",
    "    >>> blackjack_hand_greater_than(['K'], ['3', '4'])\n",
    "    True\n",
    "    >>> blackjack_hand_greater_than(['K'], ['10'])\n",
    "    False\n",
    "    >>> blackjack_hand_greater_than(['K', 'K', '2'], ['3'])\n",
    "    False\n",
    "    \"\"\"\n",
    "    pass\n"
   ]
  },
  {
   "cell_type": "markdown",
   "metadata": {},
   "source": [
    "### **답**"
   ]
  },
  {
   "cell_type": "code",
   "execution_count": 38,
   "metadata": {},
   "outputs": [
    {
     "name": "stdout",
     "output_type": "stream",
     "text": [
      "7\n",
      "True\n",
      "10\n",
      "False\n",
      "False\n",
      "24\n"
     ]
    },
    {
     "data": {
      "text/plain": [
       "False"
      ]
     },
     "execution_count": 38,
     "metadata": {},
     "output_type": "execute_result"
    }
   ],
   "source": [
    "def blackjack_hand_greater_than(hand_1, hand_2):\n",
    "\n",
    "    count1 = 0\n",
    "    total1 = 0\n",
    "\n",
    "    for list1 in hand_1:\n",
    "        if(list1 == 'A'):\n",
    "            count1 = count1 + 1\n",
    "        elif(list1 == 'K' or list1 == 'Q' or list1 == 'J'):\n",
    "            total1 = total1 + 10\n",
    "        else:\n",
    "            total1 = total1 + int(list1)\n",
    "\n",
    "    total1 = total1 + count1\n",
    "\n",
    "    if(total1 > 21):\n",
    "        return False\n",
    "\n",
    "    for i in range(count1):\n",
    "        if(total1 + 10 > 21):\n",
    "            break\n",
    "        else:\n",
    "            total1 = total1 + 10\n",
    "            \n",
    "    count2 = 0\n",
    "    total2 = 0\n",
    "    for list2 in hand_2:\n",
    "        if(list2 == 'A'):\n",
    "            count2 = count2 + 1\n",
    "        elif(list2 == 'K' or list2 == 'Q' or list2 == 'J'):\n",
    "            total2 = total2 + 10\n",
    "        else:\n",
    "            total2 = total2 + int(list2)\n",
    "            \n",
    "    total2 = total2 + count2\n",
    "    if(total2 > 21):\n",
    "        return True\n",
    "    \n",
    "    for i in range(count2):\n",
    "        if(total2 + 10 > 21):\n",
    "            break\n",
    "        else:\n",
    "            total2 = total2 + 10\n",
    "            \n",
    "\n",
    "    if(total1 > total2):\n",
    "        return True\n",
    "    else:\n",
    "        return False\n",
    "\n",
    "\n",
    "print(blackjack_hand_greater_than(['K'], ['3', '4']))\n",
    "print(blackjack_hand_greater_than(['K'], ['10']))\n",
    "print(blackjack_hand_greater_than(['K', 'K', '2'], ['3']))\n",
    "blackjack_hand_greater_than(['3', '2', '6', '8'], ['8', 'A', '5'])\n",
    "\n"
   ]
  }
 ],
 "metadata": {
  "interpreter": {
   "hash": "004de6046f1b3d314f33fdb43a2dc798b2646e5600efd8df5066c8b63a00ff6d"
  },
  "kernelspec": {
   "display_name": "Python 3.8.5 64-bit",
   "language": "python",
   "name": "python3"
  },
  "language_info": {
   "codemirror_mode": {
    "name": "ipython",
    "version": 3
   },
   "file_extension": ".py",
   "mimetype": "text/x-python",
   "name": "python",
   "nbconvert_exporter": "python",
   "pygments_lexer": "ipython3",
   "version": "3.8.5"
  },
  "orig_nbformat": 4
 },
 "nbformat": 4,
 "nbformat_minor": 2
}
