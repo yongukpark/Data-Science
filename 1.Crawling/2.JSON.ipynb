{
 "cells": [
  {
   "cell_type": "markdown",
   "metadata": {},
   "source": [
    "### **JSON데이터 처리란**\n",
    "#### : 데이터 교환시 문자열 테이터 -> 파이썬 객체 데이터 or 파이썬 객체 -> 문자열\n"
   ]
  },
  {
   "cell_type": "markdown",
   "metadata": {},
   "source": [
    "### **JSON 문자열로 변환하기**"
   ]
  },
  {
   "cell_type": "code",
   "execution_count": 10,
   "metadata": {},
   "outputs": [
    {
     "name": "stdout",
     "output_type": "stream",
     "text": [
      "{\n",
      "    \"id\": \"abcd\",\n",
      "    \"pw\": 1234,\n",
      "    \"age\": 21,\n",
      "    \"email\": \"aaa@bbb.com\"\n",
      "}\n",
      "<class 'str'>\n"
     ]
    }
   ],
   "source": [
    "import json\n",
    "\n",
    "members = {'id' : 'abcd', 'pw' : 1234 , 'age' : 21 , 'email' : 'aaa@bbb.com'}\n",
    "\n",
    "#indent는 안써도 됨(가독성을 높임) (indent = 4는 4만큼 들여쓰기라는 뜻) \n",
    "jsonStr = json.dumps(members, indent = 4)\n",
    "print(jsonStr)\n",
    "print(type(jsonStr))"
   ]
  },
  {
   "cell_type": "markdown",
   "metadata": {},
   "source": [
    "### **JSON 문자열을 변환하기**"
   ]
  },
  {
   "cell_type": "code",
   "execution_count": 13,
   "metadata": {},
   "outputs": [
    {
     "name": "stdout",
     "output_type": "stream",
     "text": [
      "{'id': 'abcd', 'pw': 1234, 'age': 21, 'email': 'aaa@bbb.com'}\n",
      "<class 'dict'>\n"
     ]
    }
   ],
   "source": [
    "jsonObj = json.loads(jsonStr)\n",
    "print(jsonObj)\n",
    "print(type(jsonObj))"
   ]
  },
  {
   "cell_type": "markdown",
   "metadata": {},
   "source": [
    "### **JSON 특정자료 접근하기**"
   ]
  },
  {
   "cell_type": "code",
   "execution_count": 14,
   "metadata": {},
   "outputs": [
    {
     "name": "stdout",
     "output_type": "stream",
     "text": [
      "21\n"
     ]
    }
   ],
   "source": [
    "#기본적인 dictonary 접근법\n",
    "print(jsonObj['age'])"
   ]
  }
 ],
 "metadata": {
  "interpreter": {
   "hash": "004de6046f1b3d314f33fdb43a2dc798b2646e5600efd8df5066c8b63a00ff6d"
  },
  "kernelspec": {
   "display_name": "Python 3.8.5 64-bit",
   "language": "python",
   "name": "python3"
  },
  "language_info": {
   "codemirror_mode": {
    "name": "ipython",
    "version": 3
   },
   "file_extension": ".py",
   "mimetype": "text/x-python",
   "name": "python",
   "nbconvert_exporter": "python",
   "pygments_lexer": "ipython3",
   "version": "3.8.5"
  },
  "orig_nbformat": 4
 },
 "nbformat": 4,
 "nbformat_minor": 2
}
