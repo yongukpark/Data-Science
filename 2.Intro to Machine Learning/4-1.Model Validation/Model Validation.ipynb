{
 "cells": [
  {
   "cell_type": "markdown",
   "metadata": {},
   "source": [
    "### **모델에러찾기**\n",
    "* 예측값과 실측값 사이에 오류가 나오는 경우가 있다.\n",
    "* 이러한 오류들을 MAE(Mean Absolute Error) matric으로 정리할 수 있다.\n",
    "* MAE는 평균 절대 오차로 번역된다.  \n",
    "\n",
    "<img src = \"https://mblogthumb-phinf.pstatic.net/MjAxOTA0MTlfMTE2/MDAxNTU1NjQxODUxODM5.yjA6oVXwfpeQ3GIfKah92M1hLYHp6GwrkUfBaNpC0JUg.jEpffpINW4ODX0FvboPEAe8-1RfYJ1umhC2M4fhc0nQg.PNG.heygun/MAE.PNG?type=w800\">\n",
    "\n",
    "* 비슷하게 평균 제곱 오차라는 MSE도 있다."
   ]
  },
  {
   "cell_type": "code",
   "execution_count": 30,
   "metadata": {},
   "outputs": [
    {
     "data": {
      "text/plain": [
       "DecisionTreeRegressor()"
      ]
     },
     "execution_count": 30,
     "metadata": {},
     "output_type": "execute_result"
    }
   ],
   "source": [
    "from sklearn.tree import DecisionTreeRegressor\n",
    "import pandas as pd\n",
    "\n",
    "melbourne_file_path = '../datafile/melb_data.csv'\n",
    "melbourne_data = pd.read_csv(melbourne_file_path)\n",
    "filtered_melbourne_data = melbourne_data.dropna(axis=0)\n",
    "\n",
    "y = filtered_melbourne_data.Price\n",
    "melbourne_features = ['Rooms', 'Bathroom', 'Landsize', 'BuildingArea',\n",
    "                      'YearBuilt', 'Lattitude', 'Longtitude']\n",
    "X = filtered_melbourne_data[melbourne_features]\n",
    "\n",
    "from sklearn.tree import DecisionTreeRegressor\n",
    "\n",
    "melbourne_model = DecisionTreeRegressor()\n",
    "\n",
    "melbourne_model.fit(X, y)\n"
   ]
  },
  {
   "cell_type": "code",
   "execution_count": 31,
   "metadata": {},
   "outputs": [
    {
     "data": {
      "text/plain": [
       "434.71594577146544"
      ]
     },
     "execution_count": 31,
     "metadata": {},
     "output_type": "execute_result"
    }
   ],
   "source": [
    "from sklearn.metrics import mean_absolute_error\n",
    "\n",
    "predicted_home_prices = melbourne_model.predict(X)\n",
    "mean_absolute_error(y, predicted_home_prices)"
   ]
  },
  {
   "cell_type": "markdown",
   "metadata": {},
   "source": [
    "* 지금 위에 사용된 방식은 training data로 학습시킨다음 training data로 정확성 검증을 함\n",
    "* 이렇게 되면 training data에 대해서는 좋은 모델일지 몰라도 완전 다른 데이터에 대해서는 좋지 않은 모델일 수도 있음\n",
    "* 그렇기에 기존 학습 시킬 데이터에서 데이터 일부를 빼내고 모델을 만든 후 빼낸 데이터로 검증을 하여야 함\n",
    "* 이러한 데이터를 validation data(검증데이터)라고 함\n",
    "* sklearn 라이브러리의 train_test_split 함수(데이터를 두 개로 나눔)로 구현함"
   ]
  },
  {
   "cell_type": "code",
   "execution_count": 32,
   "metadata": {},
   "outputs": [
    {
     "name": "stdout",
     "output_type": "stream",
     "text": [
      "260374.1478373144\n"
     ]
    }
   ],
   "source": [
    "from sklearn.model_selection import train_test_split\n",
    "\n",
    "train_X, val_X, train_y, val_y = train_test_split(X,y,random_state=0)\n",
    "\n",
    "melbourne_model = DecisionTreeRegressor()\n",
    "\n",
    "melbourne_model.fit(train_X, train_y)\n",
    "\n",
    "val_predictions = melbourne_model.predict(val_X)\n",
    "print(mean_absolute_error(val_y,val_predictions))\n",
    "      \n"
   ]
  }
 ],
 "metadata": {
  "interpreter": {
   "hash": "004de6046f1b3d314f33fdb43a2dc798b2646e5600efd8df5066c8b63a00ff6d"
  },
  "kernelspec": {
   "display_name": "Python 3.8.5 64-bit",
   "language": "python",
   "name": "python3"
  },
  "language_info": {
   "codemirror_mode": {
    "name": "ipython",
    "version": 3
   },
   "file_extension": ".py",
   "mimetype": "text/x-python",
   "name": "python",
   "nbconvert_exporter": "python",
   "pygments_lexer": "ipython3",
   "version": "3.8.5"
  },
  "orig_nbformat": 4
 },
 "nbformat": 4,
 "nbformat_minor": 2
}
