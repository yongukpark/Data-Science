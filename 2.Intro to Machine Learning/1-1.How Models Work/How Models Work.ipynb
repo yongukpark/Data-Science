{
 "cells": [
  {
   "cell_type": "markdown",
   "metadata": {},
   "source": [
    "# **의사결정트리**\n",
    "* fitting, training : 데이터들 사이에서 패턴을 찾는것  \n",
    "* training data : model을 fit하기 위해 사용된 데이터\n",
    "* predict : 만들어진 model에 새 데이터를 적용시키는 것  \n",
    "* 트리의 정확성을 높이기 위해 split을 통해 더 많은 요소들을 고려한다  \n",
    "* 이러한 트리들을 deeper tree라고 부른다"
   ]
  },
  {
   "cell_type": "markdown",
   "metadata": {},
   "source": []
  }
 ],
 "metadata": {
  "language_info": {
   "name": "python"
  },
  "orig_nbformat": 4
 },
 "nbformat": 4,
 "nbformat_minor": 2
}
