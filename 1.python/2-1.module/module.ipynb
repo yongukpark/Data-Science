{
 "cells": [
  {
   "cell_type": "markdown",
   "metadata": {},
   "source": [
    "# **Numpy**\n",
    "---"
   ]
  },
  {
   "cell_type": "code",
   "execution_count": 1,
   "metadata": {},
   "outputs": [
    {
     "data": {
      "text/plain": [
       "module"
      ]
     },
     "execution_count": 1,
     "metadata": {},
     "output_type": "execute_result"
    }
   ],
   "source": [
    "import numpy as np\n",
    "type(np.random)"
   ]
  },
  {
   "cell_type": "code",
   "execution_count": 2,
   "metadata": {},
   "outputs": [
    {
     "name": "stdout",
     "output_type": "stream",
     "text": [
      "[1 2 2 5 3 1 5 5 2 1]\n",
      "<class 'numpy.ndarray'>\n"
     ]
    }
   ],
   "source": [
    "rolls = np.random.randint(low=1, high=6, size=10)\n",
    "print(rolls)\n",
    "print(type(rolls))  \n"
   ]
  },
  {
   "cell_type": "markdown",
   "metadata": {},
   "source": [
    "np.random.randint: 균등 분포 정수 난수 1개 생성  \n",
    "\n",
    "# **ndarray**\n",
    "---\n",
    "Numpy의 핵심인 다차원 행렬 자료구조 클래스\n",
    "선언은 a = np.array([])의 형태    \n",
    "출력형태는 List와 같음  \n",
    "\n",
    "### **Python list**\n",
    "* 여러가지 타입의 원소 \n",
    "* Linked list 구현  \n",
    "* 메모리 용량이 크고 속도가 느림  \n",
    "* 벡터화 연산 불가  \n",
    "\n",
    "### **Numpy ndarray** \n",
    "* 동일 타입의 원소  \n",
    "* contiguous memory layout (연속 메모리 할당) : C계열 메모리\n",
    "* 메모리 최적화, 계산 속도 향상  \n",
    "* 벡터화 연산 가능  "
   ]
  },
  {
   "cell_type": "code",
   "execution_count": 3,
   "metadata": {},
   "outputs": [
    {
     "name": "stdout",
     "output_type": "stream",
     "text": [
      "[1 2 2 5 3 1 5 5 2 1]\n",
      "[11 12 12 15 13 11 15 15 12 11]\n"
     ]
    }
   ],
   "source": [
    "# [1,2,3] + 10 이라는 연산은 말도 안된다 but 벡터화 연산에서는 ?\n",
    "print(rolls)\n",
    "print(rolls+10)"
   ]
  },
  {
   "cell_type": "code",
   "execution_count": 4,
   "metadata": {},
   "outputs": [
    {
     "name": "stdout",
     "output_type": "stream",
     "text": [
      "[[1, 2, 3], [4, 5, 6]]\n"
     ]
    },
    {
     "data": {
      "text/plain": [
       "array([[1, 2, 3],\n",
       "       [4, 5, 6]])"
      ]
     },
     "execution_count": 4,
     "metadata": {},
     "output_type": "execute_result"
    }
   ],
   "source": [
    "xlist = [[1,2,3],[4,5,6]]\n",
    "print(xlist)\n",
    "copyxList = np.asarray(xlist)\n",
    "copyxList"
   ]
  },
  {
   "cell_type": "markdown",
   "metadata": {},
   "source": [
    "np.asarray()와 np.array()는 기능에 있어서 차이는 없지만 복사 관련하여 차이가 있음  \n",
    "(정확히는 모르겠음..)"
   ]
  },
  {
   "cell_type": "code",
   "execution_count": 5,
   "metadata": {},
   "outputs": [
    {
     "name": "stdout",
     "output_type": "stream",
     "text": [
      "3\n",
      "[1 2 3]\n"
     ]
    }
   ],
   "source": [
    "#ndarray 출력하기\n",
    "print(copyxList[0,2]) \n",
    "print(copyxList[0])"
   ]
  },
  {
   "cell_type": "markdown",
   "metadata": {},
   "source": [
    "# **Tensorflow**\n",
    "---"
   ]
  },
  {
   "cell_type": "code",
   "execution_count": 6,
   "metadata": {},
   "outputs": [
    {
     "data": {
      "text/plain": [
       "<tf.Tensor: shape=(), dtype=int32, numpy=2>"
      ]
     },
     "execution_count": 6,
     "metadata": {},
     "output_type": "execute_result"
    }
   ],
   "source": [
    "import tensorflow as tf\n",
    "a = tf.constant(1)\n",
    "b = tf.constant(1)\n",
    "a + b\n",
    "\n"
   ]
  }
 ],
 "metadata": {
  "interpreter": {
   "hash": "004de6046f1b3d314f33fdb43a2dc798b2646e5600efd8df5066c8b63a00ff6d"
  },
  "kernelspec": {
   "display_name": "Python 3.8.5 64-bit",
   "language": "python",
   "name": "python3"
  },
  "language_info": {
   "codemirror_mode": {
    "name": "ipython",
    "version": 3
   },
   "file_extension": ".py",
   "mimetype": "text/x-python",
   "name": "python",
   "nbconvert_exporter": "python",
   "pygments_lexer": "ipython3",
   "version": "3.8.5"
  },
  "orig_nbformat": 4
 },
 "nbformat": 4,
 "nbformat_minor": 2
}
