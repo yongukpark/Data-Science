{
 "cells": [
  {
   "cell_type": "markdown",
   "metadata": {},
   "source": [
    "# **Exercise**\n",
    "---    "
   ]
  },
  {
   "cell_type": "markdown",
   "metadata": {},
   "source": [
    "### **문제**\n",
    "연산자 오퍼레이팅 문제 : 아래함수 채우기"
   ]
  },
  {
   "cell_type": "code",
   "execution_count": 2,
   "metadata": {},
   "outputs": [],
   "source": [
    "def blackjack_hand_greater_than(hand_1, hand_2):\n",
    "    \"\"\"\n",
    "    Return True if hand_1 beats hand_2, and False otherwise.\n",
    "    \n",
    "    In order for hand_1 to beat hand_2 the following must be true:\n",
    "    - The total of hand_1 must not exceed 21\n",
    "    - The total of hand_1 must exceed the total of hand_2 OR hand_2's total must exceed 21\n",
    "    \n",
    "    Hands are represented as a list of cards. Each card is represented by a string.\n",
    "    \n",
    "    When adding up a hand's total, cards with numbers count for that many points. Face\n",
    "    cards ('J', 'Q', and 'K') are worth 10 points. 'A' can count for 1 or 11.\n",
    "    \n",
    "    When determining a hand's total, you should try to count aces in the way that \n",
    "    maximizes the hand's total without going over 21. e.g. the total of ['A', 'A', '9'] is 21,\n",
    "    the total of ['A', 'A', '9', '3'] is 14.\n",
    "    \n",
    "    Examples:\n",
    "    >>> blackjack_hand_greater_than(['K'], ['3', '4'])\n",
    "    True\n",
    "    >>> blackjack_hand_greater_than(['K'], ['10'])\n",
    "    False\n",
    "    >>> blackjack_hand_greater_than(['K', 'K', '2'], ['3'])\n",
    "    False\n",
    "    \"\"\"\n",
    "    pass\n"
   ]
  },
  {
   "cell_type": "markdown",
   "metadata": {},
   "source": [
    "### **답**"
   ]
  },
  {
   "cell_type": "code",
   "execution_count": 3,
   "metadata": {},
   "outputs": [
    {
     "name": "stdout",
     "output_type": "stream",
     "text": [
      "True\n",
      "False\n",
      "False\n"
     ]
    },
    {
     "data": {
      "text/plain": [
       "True"
      ]
     },
     "execution_count": 3,
     "metadata": {},
     "output_type": "execute_result"
    }
   ],
   "source": [
    "def blackjack_hand_greater_than(hand_1, hand_2):\n",
    "\n",
    "    count1 = 0\n",
    "    total1 = 0\n",
    "\n",
    "    for list1 in hand_1:\n",
    "        if(list1 == 'A'):\n",
    "            count1 = count1 + 1\n",
    "        elif(list1 == 'K' or list1 == 'Q' or list1 == 'J'):\n",
    "            total1 = total1 + 10\n",
    "        else:\n",
    "            total1 = total1 + int(list1)\n",
    "\n",
    "    total1 = total1 + count1\n",
    "\n",
    "    if(total1 > 21):\n",
    "        return False\n",
    "\n",
    "    for i in range(count1):\n",
    "        if(total1 + 10 > 21):\n",
    "            break\n",
    "        else:\n",
    "            total1 = total1 + 10\n",
    "            \n",
    "    count2 = 0\n",
    "    total2 = 0\n",
    "    for list2 in hand_2:\n",
    "        if(list2 == 'A'):\n",
    "            count2 = count2 + 1\n",
    "        elif(list2 == 'K' or list2 == 'Q' or list2 == 'J'):\n",
    "            total2 = total2 + 10\n",
    "        else:\n",
    "            total2 = total2 + int(list2)\n",
    "            \n",
    "    total2 = total2 + count2\n",
    "    if(total2 > 21):\n",
    "        return True\n",
    "    \n",
    "    for i in range(count2):\n",
    "        if(total2 + 10 > 21):\n",
    "            break\n",
    "        else:\n",
    "            total2 = total2 + 10\n",
    "            \n",
    "\n",
    "    if(total1 > total2):\n",
    "        return True\n",
    "    else:\n",
    "        return False\n",
    "\n",
    "\n",
    "print(blackjack_hand_greater_than(['K'], ['3', '4']))\n",
    "print(blackjack_hand_greater_than(['K'], ['10']))\n",
    "print(blackjack_hand_greater_than(['K', 'K', '2'], ['3']))\n",
    "blackjack_hand_greater_than(['3', '2', '6', '8'], ['8', 'A', '5'])\n",
    "\n"
   ]
  }
 ],
 "metadata": {
  "interpreter": {
   "hash": "004de6046f1b3d314f33fdb43a2dc798b2646e5600efd8df5066c8b63a00ff6d"
  },
  "kernelspec": {
   "display_name": "Python 3.8.5 64-bit",
   "language": "python",
   "name": "python3"
  },
  "language_info": {
   "codemirror_mode": {
    "name": "ipython",
    "version": 3
   },
   "file_extension": ".py",
   "mimetype": "text/x-python",
   "name": "python",
   "nbconvert_exporter": "python",
   "pygments_lexer": "ipython3",
   "version": "3.8.5"
  },
  "orig_nbformat": 4
 },
 "nbformat": 4,
 "nbformat_minor": 2
}
